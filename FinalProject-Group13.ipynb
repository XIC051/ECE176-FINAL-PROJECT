{
 "cells": [
  {
   "cell_type": "markdown",
   "metadata": {},
   "source": [
    "# UC San Diego: Data Science in Practice\n",
    "## Final Project Title (change this to your project's title)"
   ]
  },
  {
   "cell_type": "markdown",
   "metadata": {},
   "source": [
    "## Permissions\n",
    "\n",
    "Place an `X` in the appropriate bracket below to specify if you would like your group's project to be made available to the public. (Note that student names will be included (but PIDs will be scraped from any groups who include their PIDs).\n",
    "\n",
    "* [  ] YES - make available\n",
    "* [X] NO - keep private"
   ]
  },
  {
   "cell_type": "markdown",
   "metadata": {},
   "source": [
    "# Names\n",
    "\n",
    "- Zhirui Xia\n",
    "- Zehan Li\n",
    "- Yue Yin\n",
    "- Xiaojie Chen\n",
    "- Chenri Luo\n"
   ]
  },
  {
   "cell_type": "markdown",
   "metadata": {},
   "source": [
    "# Overview"
   ]
  },
  {
   "cell_type": "markdown",
   "metadata": {},
   "source": [
    "* Write a clear, 3-4 sentence summary of what you did and why."
   ]
  },
  {
   "cell_type": "markdown",
   "metadata": {},
   "source": [
    "<a id='research_question'></a>\n",
    "# Research Question"
   ]
  },
  {
   "cell_type": "markdown",
   "metadata": {},
   "source": [
    "Do `Genre`, `Price`, and `Update Frequency` have a statistically significant influence, individually and together, on the `Version Score` of an app? Can these variables be used to predict the version score of an app?"
   ]
  },
  {
   "cell_type": "markdown",
   "metadata": {},
   "source": [
    "<a id='background'></a>\n",
    "\n",
    "## Background & Prior Work"
   ]
  },
  {
   "cell_type": "markdown",
   "metadata": {},
   "source": [
    "Mobile applications have become an essential part of daily life, catering to various user needs ranging from entertainment to productivity. Both the genre and the content rating of an app are crucial attributes that can determine its reception among users, which can be measured by the number of reviews and user ratings it receives[^Khalid2015].\n",
    "\n",
    "There have been several studies analyzing aspects of mobile applications and their performance in the market. In a study by Mo et al. (2017), they examined the relationship between the number of downloads, ratings, and the category of Android apps. They discovered that different app categories had varied ratings, and this variance significantly influenced the number of download[^Mo2017].\n",
    "\n",
    "In a different study, Fu et al. (2013) analyzed the impact of age ratings on the success of iOS games, and they found that games rated for older age groups had fewer downloads but higher revenues[^Fu2013]. While these studies have looked at genre or content rating separately, our research will extend this line of inquiry by investigating how these two factors together influence an app's reviews and ratings.\n",
    "\n",
    "Other relevant research includes a study by Khalid et al. (2015), where they investigated the common reasons behind negative app reviews. They found that bugs, app functionality, and customer service were significant factors that led to lower ratings[^Khalid2015]. This background could provide valuable context in understanding the dynamics of user reviews and ratings.\n",
    "\n",
    "[^Khalid2015]: Khalid, H., Shihab, E., Nagappan, M., & Hassan, A. E. (2015). What Do Mobile App Users Complain About? A Study on Free iOS Apps. IEEE Software, 32(3), 70-77.\n",
    "\n",
    "[^Mo2017]: Mo, K., Tan, C., & Lu, S. (2017). Watch Out for This! A Study of the Factors that Influence Mobile Application Downloads. 2017 13th International Conference on Computational Intelligence and Security (CIS).\n",
    "\n",
    "[^Fu2013]: Fu, F., Zhang, L., & Chan, K. (2013). A multilevel model of free-to-play games: An empirical study of a game's lifetime and revenue. Expert Systems with Applications, 40(8), 3166-3173."
   ]
  },
  {
   "cell_type": "markdown",
   "metadata": {},
   "source": [
    "# Hypothesis\n"
   ]
  },
  {
   "cell_type": "markdown",
   "metadata": {},
   "source": [
    "Research Hypothesis: \n",
    "\n",
    "There is a significant relationship between the `genre`, `price of the app`, and its `update frequency` (calculated from Released_Date and Updated_Date) of an app, and the `current version score` of the apps in Apple AppStore.\n",
    "\n",
    "Null hypothesis:\n",
    "\n",
    "There is no significant relationship between the genre, price, and update frequency of an app, and the Current_Version_Score of the apps in Apple AppStore."
   ]
  },
  {
   "cell_type": "markdown",
   "metadata": {},
   "source": [
    "# Dataset(s)"
   ]
  },
  {
   "cell_type": "markdown",
   "metadata": {},
   "source": [
    "- **Dataset Name**: Apple App Data\n",
    "- **Link to the dataset**: https://www.kaggle.com/datasets/gauthamp10/apple-appstore-apps\n",
    "- **Number of observations**: 129465 × 21\n",
    "- **Description of the dataset**: \n",
    "\n",
    "This dataset is about information of applications on Apple AppStore. \n",
    "\n",
    "The dataset has **21** columns and **1.2 Million+** App Data but for the purpose of our project, we have shrinked it to **129465 x 21** observations and each row representing a unique app. The columns contain the following information:\n",
    "\n",
    "This datasets provides valuable insights into **user ratings analysis** and investigating potential correlations to it. By exploring the distribution of average user ratings basing on different other variables, this dataset can help to understand factors that are important in getting high user satisfaction for app developers."
   ]
  },
  {
   "cell_type": "markdown",
   "metadata": {},
   "source": [
    "# Ethics & Privacy"
   ]
  },
  {
   "cell_type": "markdown",
   "metadata": {},
   "source": [
    "In this project, ethics and privacy are critical and is one of our major concerns. The proposed data potentially includes sensitive information such as user reviews and ratings. Biases might arised from the collection of usage of such data, potentially leaking sensitive information or leads to biased result of our project. For example, the app reviews data might exclude certain populations based on the various contents of the app, and the potential customers of each app differ by a large scale, which can lead to the uncomprehensive result and unfair or discriminatory analysis. To prevent such problems, it is important to conduct a thorough review of the dataset before analysis, identify any biases, and take actions to mitigate them. During our analysis, we must remain vigilant for biases and evaluate the impact of any findings on different demographic and different age groups. Afterward, when discussing the analysis, transparency about the dataset's limitations should also be maintained and keep in mind for responsible and ethical approach. Furthermore, in order to be thorough, the misuse of user data for targeted advertising without explicit consent could infrige upon user privacy. In order to handle it, it is necessary to anonymize and aggregfate the data, use dataset from public source that has user consent for data usage, and ensure compliance with any privacy regulations. In summary, ethics and privacy are essential to data scientists. Addressing concerns, mitigating biases, protecting privacy, and complying with ethics are significant during the data collection, analysis, and communication processes. Transparency, fairness, and responsible data handling are important to ensure an unbiased and ethical project."
   ]
  },
  {
   "cell_type": "markdown",
   "metadata": {},
   "source": [
    "# Data Wrangling"
   ]
  },
  {
   "cell_type": "markdown",
   "metadata": {},
   "source": [
    "1. Download the datasets:\n",
    "\n",
    "   We have pulled our dataset to our group github: https://github.com/drsimpkins-teaching/cogs108_ss1_23_group_13/blob/main/app.csv\n",
    "   \n",
    "   The first step is to download and store the csv file in the current working directory. \n",
    "<br>\n",
    "\n",
    "2. Import necessary libraries: \n",
    "   \n",
    "   The first step is to import the required libraries. \n",
    "   \n",
    "   **numpy** and **pandas** libraries are imported using the aliases np and pd, respectively.  \n",
    "<br>\n",
    "\n",
    "3. Read the data from the CSV file: \n",
    "   \n",
    "   Using `pd.read_csv()` function from pandas read the data from the CSV file (app.csv) and create a DataFrame. \n",
    "   \n",
    "   **NOTE**: The CSV file (app.csv) should be located in the current working directory.\n",
    "<br>"
   ]
  },
  {
   "cell_type": "code",
   "execution_count": 9,
   "metadata": {},
   "outputs": [
    {
     "data": {
      "text/html": [
       "<div>\n",
       "<style scoped>\n",
       "    .dataframe tbody tr th:only-of-type {\n",
       "        vertical-align: middle;\n",
       "    }\n",
       "\n",
       "    .dataframe tbody tr th {\n",
       "        vertical-align: top;\n",
       "    }\n",
       "\n",
       "    .dataframe thead th {\n",
       "        text-align: right;\n",
       "    }\n",
       "</style>\n",
       "<table border=\"1\" class=\"dataframe\">\n",
       "  <thead>\n",
       "    <tr style=\"text-align: right;\">\n",
       "      <th></th>\n",
       "      <th>App_Id</th>\n",
       "      <th>App_Name</th>\n",
       "      <th>AppStore_Url</th>\n",
       "      <th>Primary_Genre</th>\n",
       "      <th>Content_Rating</th>\n",
       "      <th>Size_Bytes</th>\n",
       "      <th>Required_IOS_Version</th>\n",
       "      <th>Released</th>\n",
       "      <th>Updated</th>\n",
       "      <th>Version</th>\n",
       "      <th>...</th>\n",
       "      <th>Currency</th>\n",
       "      <th>Free</th>\n",
       "      <th>DeveloperId</th>\n",
       "      <th>Developer</th>\n",
       "      <th>Developer_Url</th>\n",
       "      <th>Developer_Website</th>\n",
       "      <th>Average_User_Rating</th>\n",
       "      <th>Reviews</th>\n",
       "      <th>Current_Version_Score</th>\n",
       "      <th>Current_Version_Reviews</th>\n",
       "    </tr>\n",
       "  </thead>\n",
       "  <tbody>\n",
       "    <tr>\n",
       "      <th>0</th>\n",
       "      <td>com.hkbu.arc.apaper</td>\n",
       "      <td>A+ Paper Guide</td>\n",
       "      <td>https://apps.apple.com/us/app/a-paper-guide/id...</td>\n",
       "      <td>Education</td>\n",
       "      <td>4+</td>\n",
       "      <td>21993472.0</td>\n",
       "      <td>8.0</td>\n",
       "      <td>2017-09-28T03:02:41Z</td>\n",
       "      <td>2018-12-21T21:30:36Z</td>\n",
       "      <td>1.1.2</td>\n",
       "      <td>...</td>\n",
       "      <td>USD</td>\n",
       "      <td>True</td>\n",
       "      <td>1375410542</td>\n",
       "      <td>HKBU ARC</td>\n",
       "      <td>https://apps.apple.com/us/developer/hkbu-arc/i...</td>\n",
       "      <td>NaN</td>\n",
       "      <td>0.0</td>\n",
       "      <td>0</td>\n",
       "      <td>0.0</td>\n",
       "      <td>0</td>\n",
       "    </tr>\n",
       "    <tr>\n",
       "      <th>1</th>\n",
       "      <td>com.dmitriev.abooks</td>\n",
       "      <td>A-Books</td>\n",
       "      <td>https://apps.apple.com/us/app/a-books/id103157...</td>\n",
       "      <td>Book</td>\n",
       "      <td>4+</td>\n",
       "      <td>13135872.0</td>\n",
       "      <td>10.0</td>\n",
       "      <td>2015-08-31T19:31:32Z</td>\n",
       "      <td>2019-07-23T20:31:09Z</td>\n",
       "      <td>1.3</td>\n",
       "      <td>...</td>\n",
       "      <td>USD</td>\n",
       "      <td>True</td>\n",
       "      <td>1031572001</td>\n",
       "      <td>Roman Dmitriev</td>\n",
       "      <td>https://apps.apple.com/us/developer/roman-dmit...</td>\n",
       "      <td>NaN</td>\n",
       "      <td>5.0</td>\n",
       "      <td>1</td>\n",
       "      <td>5.0</td>\n",
       "      <td>1</td>\n",
       "    </tr>\n",
       "    <tr>\n",
       "      <th>2</th>\n",
       "      <td>no.terp.abooks</td>\n",
       "      <td>A-books</td>\n",
       "      <td>https://apps.apple.com/us/app/a-books/id145702...</td>\n",
       "      <td>Book</td>\n",
       "      <td>4+</td>\n",
       "      <td>21943296.0</td>\n",
       "      <td>9.0</td>\n",
       "      <td>2021-04-14T07:00:00Z</td>\n",
       "      <td>2021-05-30T21:08:54Z</td>\n",
       "      <td>1.3.1</td>\n",
       "      <td>...</td>\n",
       "      <td>USD</td>\n",
       "      <td>True</td>\n",
       "      <td>1457024163</td>\n",
       "      <td>Terp AS</td>\n",
       "      <td>https://apps.apple.com/us/developer/terp-as/id...</td>\n",
       "      <td>NaN</td>\n",
       "      <td>0.0</td>\n",
       "      <td>0</td>\n",
       "      <td>0.0</td>\n",
       "      <td>0</td>\n",
       "    </tr>\n",
       "    <tr>\n",
       "      <th>3</th>\n",
       "      <td>fr.antoinettefleur.Book1</td>\n",
       "      <td>A-F Book #1</td>\n",
       "      <td>https://apps.apple.com/us/app/a-f-book-1/id500...</td>\n",
       "      <td>Book</td>\n",
       "      <td>4+</td>\n",
       "      <td>81851392.0</td>\n",
       "      <td>8.0</td>\n",
       "      <td>2012-02-10T03:40:07Z</td>\n",
       "      <td>2019-10-29T12:40:37Z</td>\n",
       "      <td>1.2</td>\n",
       "      <td>...</td>\n",
       "      <td>USD</td>\n",
       "      <td>False</td>\n",
       "      <td>439568839</td>\n",
       "      <td>i-editeur.com</td>\n",
       "      <td>https://apps.apple.com/us/developer/i-editeur-...</td>\n",
       "      <td>NaN</td>\n",
       "      <td>0.0</td>\n",
       "      <td>0</td>\n",
       "      <td>0.0</td>\n",
       "      <td>0</td>\n",
       "    </tr>\n",
       "    <tr>\n",
       "      <th>4</th>\n",
       "      <td>com.imonstersoft.azdictionaryios</td>\n",
       "      <td>A-Z Synonyms Dictionary</td>\n",
       "      <td>https://apps.apple.com/us/app/a-z-synonyms-dic...</td>\n",
       "      <td>Reference</td>\n",
       "      <td>4+</td>\n",
       "      <td>64692224.0</td>\n",
       "      <td>9.0</td>\n",
       "      <td>2020-12-16T08:00:00Z</td>\n",
       "      <td>2020-12-18T21:36:11Z</td>\n",
       "      <td>1.0.1</td>\n",
       "      <td>...</td>\n",
       "      <td>USD</td>\n",
       "      <td>True</td>\n",
       "      <td>656731821</td>\n",
       "      <td>Ngov chiheang</td>\n",
       "      <td>https://apps.apple.com/us/developer/ngov-chihe...</td>\n",
       "      <td>http://imonstersoft.com</td>\n",
       "      <td>0.0</td>\n",
       "      <td>0</td>\n",
       "      <td>0.0</td>\n",
       "      <td>0</td>\n",
       "    </tr>\n",
       "  </tbody>\n",
       "</table>\n",
       "<p>5 rows × 21 columns</p>\n",
       "</div>"
      ],
      "text/plain": [
       "                             App_Id                 App_Name   \n",
       "0               com.hkbu.arc.apaper           A+ Paper Guide  \\\n",
       "1               com.dmitriev.abooks                  A-Books   \n",
       "2                    no.terp.abooks                  A-books   \n",
       "3          fr.antoinettefleur.Book1              A-F Book #1   \n",
       "4  com.imonstersoft.azdictionaryios  A-Z Synonyms Dictionary   \n",
       "\n",
       "                                        AppStore_Url Primary_Genre   \n",
       "0  https://apps.apple.com/us/app/a-paper-guide/id...     Education  \\\n",
       "1  https://apps.apple.com/us/app/a-books/id103157...          Book   \n",
       "2  https://apps.apple.com/us/app/a-books/id145702...          Book   \n",
       "3  https://apps.apple.com/us/app/a-f-book-1/id500...          Book   \n",
       "4  https://apps.apple.com/us/app/a-z-synonyms-dic...     Reference   \n",
       "\n",
       "  Content_Rating  Size_Bytes Required_IOS_Version              Released   \n",
       "0             4+  21993472.0                  8.0  2017-09-28T03:02:41Z  \\\n",
       "1             4+  13135872.0                 10.0  2015-08-31T19:31:32Z   \n",
       "2             4+  21943296.0                  9.0  2021-04-14T07:00:00Z   \n",
       "3             4+  81851392.0                  8.0  2012-02-10T03:40:07Z   \n",
       "4             4+  64692224.0                  9.0  2020-12-16T08:00:00Z   \n",
       "\n",
       "                Updated Version  ...  Currency   Free  DeveloperId   \n",
       "0  2018-12-21T21:30:36Z   1.1.2  ...       USD   True   1375410542  \\\n",
       "1  2019-07-23T20:31:09Z     1.3  ...       USD   True   1031572001   \n",
       "2  2021-05-30T21:08:54Z   1.3.1  ...       USD   True   1457024163   \n",
       "3  2019-10-29T12:40:37Z     1.2  ...       USD  False    439568839   \n",
       "4  2020-12-18T21:36:11Z   1.0.1  ...       USD   True    656731821   \n",
       "\n",
       "        Developer                                      Developer_Url   \n",
       "0        HKBU ARC  https://apps.apple.com/us/developer/hkbu-arc/i...  \\\n",
       "1  Roman Dmitriev  https://apps.apple.com/us/developer/roman-dmit...   \n",
       "2         Terp AS  https://apps.apple.com/us/developer/terp-as/id...   \n",
       "3   i-editeur.com  https://apps.apple.com/us/developer/i-editeur-...   \n",
       "4   Ngov chiheang  https://apps.apple.com/us/developer/ngov-chihe...   \n",
       "\n",
       "         Developer_Website Average_User_Rating  Reviews   \n",
       "0                      NaN                 0.0        0  \\\n",
       "1                      NaN                 5.0        1   \n",
       "2                      NaN                 0.0        0   \n",
       "3                      NaN                 0.0        0   \n",
       "4  http://imonstersoft.com                 0.0        0   \n",
       "\n",
       "   Current_Version_Score  Current_Version_Reviews  \n",
       "0                    0.0                        0  \n",
       "1                    5.0                        1  \n",
       "2                    0.0                        0  \n",
       "3                    0.0                        0  \n",
       "4                    0.0                        0  \n",
       "\n",
       "[5 rows x 21 columns]"
      ]
     },
     "execution_count": 9,
     "metadata": {},
     "output_type": "execute_result"
    }
   ],
   "source": [
    "import numpy as np\n",
    "import pandas as pd\n",
    "import matplotlib.pyplot as plt\n",
    "import seaborn as sns\n",
    "from scipy import stats\n",
    "import plotly.express as px\n",
    "\n",
    "app = pd.read_csv(\"app.csv\")\n",
    "app.head()"
   ]
  },
  {
   "cell_type": "markdown",
   "metadata": {},
   "source": [
    "# Data Cleaning"
   ]
  },
  {
   "cell_type": "markdown",
   "metadata": {},
   "source": [
    "#### 1. Removing Rows with No Reviews:\n",
    "\n",
    "Any row in the DataFrame where the 'Reviews' column has a value less than or equal to zero is removed. This effectively removes apps that have no reviews, which are useless to our analysis."
   ]
  },
  {
   "cell_type": "code",
   "execution_count": 10,
   "metadata": {},
   "outputs": [],
   "source": [
    "# Remove useless rows with no reviews\n",
    "app = app[app['Reviews'] > 0]"
   ]
  },
  {
   "cell_type": "markdown",
   "metadata": {},
   "source": [
    "#### 2. Dropping Useless Columns:\n",
    "\n",
    "Columns that are considered irrelevant or redundant for the analysis are dropped from the DataFrame."
   ]
  },
  {
   "cell_type": "code",
   "execution_count": 11,
   "metadata": {},
   "outputs": [],
   "source": [
    "# Drop useless columns\n",
    "app = app.drop(columns=['AppStore_Url','Currency','Developer_Url', 'Developer_Website','Average_User_Rating',\n",
    "                        'Current_Version_Reviews', 'Required_IOS_Version', 'DeveloperId', 'Developer', 'Developer_Url',\n",
    "                       'Developer_Website'])"
   ]
  },
  {
   "cell_type": "markdown",
   "metadata": {},
   "source": [
    "#### 3. Dropping Rows with Null Values:\n",
    "\n",
    "Any row with at least one missing (NaN) value is dropped from the DataFrame to get rid of missing data.\n"
   ]
  },
  {
   "cell_type": "code",
   "execution_count": 12,
   "metadata": {},
   "outputs": [
    {
     "data": {
      "text/html": [
       "<div>\n",
       "<style scoped>\n",
       "    .dataframe tbody tr th:only-of-type {\n",
       "        vertical-align: middle;\n",
       "    }\n",
       "\n",
       "    .dataframe tbody tr th {\n",
       "        vertical-align: top;\n",
       "    }\n",
       "\n",
       "    .dataframe thead th {\n",
       "        text-align: right;\n",
       "    }\n",
       "</style>\n",
       "<table border=\"1\" class=\"dataframe\">\n",
       "  <thead>\n",
       "    <tr style=\"text-align: right;\">\n",
       "      <th></th>\n",
       "      <th>App_Id</th>\n",
       "      <th>App_Name</th>\n",
       "      <th>Primary_Genre</th>\n",
       "      <th>Content_Rating</th>\n",
       "      <th>Size_Bytes</th>\n",
       "      <th>Released</th>\n",
       "      <th>Updated</th>\n",
       "      <th>Version</th>\n",
       "      <th>Price</th>\n",
       "      <th>Free</th>\n",
       "      <th>Reviews</th>\n",
       "      <th>Current_Version_Score</th>\n",
       "    </tr>\n",
       "  </thead>\n",
       "  <tbody>\n",
       "    <tr>\n",
       "      <th>1</th>\n",
       "      <td>com.dmitriev.abooks</td>\n",
       "      <td>A-Books</td>\n",
       "      <td>Book</td>\n",
       "      <td>4+</td>\n",
       "      <td>13135872.0</td>\n",
       "      <td>2015-08-31T19:31:32Z</td>\n",
       "      <td>2019-07-23T20:31:09Z</td>\n",
       "      <td>1.3</td>\n",
       "      <td>0.00</td>\n",
       "      <td>True</td>\n",
       "      <td>1</td>\n",
       "      <td>5.00000</td>\n",
       "    </tr>\n",
       "    <tr>\n",
       "      <th>10</th>\n",
       "      <td>com.pitashi.audiojoy.aacompanionfree</td>\n",
       "      <td>AA Audio Companion for Alcoholics Anonymous</td>\n",
       "      <td>Book</td>\n",
       "      <td>17+</td>\n",
       "      <td>26133504.0</td>\n",
       "      <td>2017-04-19T13:24:42Z</td>\n",
       "      <td>2017-08-24T00:29:56Z</td>\n",
       "      <td>3.6.1</td>\n",
       "      <td>0.00</td>\n",
       "      <td>True</td>\n",
       "      <td>1285</td>\n",
       "      <td>4.78132</td>\n",
       "    </tr>\n",
       "    <tr>\n",
       "      <th>11</th>\n",
       "      <td>com.goodbarber.bigbookfree</td>\n",
       "      <td>AA Big Book (Unofficial)</td>\n",
       "      <td>Book</td>\n",
       "      <td>17+</td>\n",
       "      <td>63112192.0</td>\n",
       "      <td>2015-05-12T07:45:22Z</td>\n",
       "      <td>2021-09-18T18:55:21Z</td>\n",
       "      <td>2.2.16</td>\n",
       "      <td>0.00</td>\n",
       "      <td>True</td>\n",
       "      <td>1839</td>\n",
       "      <td>4.78902</td>\n",
       "    </tr>\n",
       "    <tr>\n",
       "      <th>12</th>\n",
       "      <td>com.laltrello.aabigbookandmore</td>\n",
       "      <td>AA Big Book and More</td>\n",
       "      <td>Lifestyle</td>\n",
       "      <td>4+</td>\n",
       "      <td>3095552.0</td>\n",
       "      <td>2012-04-02T11:01:26Z</td>\n",
       "      <td>2017-04-11T03:25:00Z</td>\n",
       "      <td>4.0</td>\n",
       "      <td>1.99</td>\n",
       "      <td>False</td>\n",
       "      <td>242</td>\n",
       "      <td>4.67354</td>\n",
       "    </tr>\n",
       "    <tr>\n",
       "      <th>13</th>\n",
       "      <td>com.aabigbook.appstore</td>\n",
       "      <td>AA Big Book App  -  Unofficial</td>\n",
       "      <td>Book</td>\n",
       "      <td>17+</td>\n",
       "      <td>2094080.0</td>\n",
       "      <td>2015-12-19T00:41:11Z</td>\n",
       "      <td>2018-10-17T20:01:47Z</td>\n",
       "      <td>1.4.2</td>\n",
       "      <td>0.99</td>\n",
       "      <td>False</td>\n",
       "      <td>21</td>\n",
       "      <td>3.09524</td>\n",
       "    </tr>\n",
       "  </tbody>\n",
       "</table>\n",
       "</div>"
      ],
      "text/plain": [
       "                                  App_Id   \n",
       "1                    com.dmitriev.abooks  \\\n",
       "10  com.pitashi.audiojoy.aacompanionfree   \n",
       "11            com.goodbarber.bigbookfree   \n",
       "12        com.laltrello.aabigbookandmore   \n",
       "13                com.aabigbook.appstore   \n",
       "\n",
       "                                       App_Name Primary_Genre Content_Rating   \n",
       "1                                       A-Books          Book             4+  \\\n",
       "10  AA Audio Companion for Alcoholics Anonymous          Book            17+   \n",
       "11                     AA Big Book (Unofficial)          Book            17+   \n",
       "12                         AA Big Book and More     Lifestyle             4+   \n",
       "13               AA Big Book App  -  Unofficial          Book            17+   \n",
       "\n",
       "    Size_Bytes              Released               Updated Version  Price   \n",
       "1   13135872.0  2015-08-31T19:31:32Z  2019-07-23T20:31:09Z     1.3   0.00  \\\n",
       "10  26133504.0  2017-04-19T13:24:42Z  2017-08-24T00:29:56Z   3.6.1   0.00   \n",
       "11  63112192.0  2015-05-12T07:45:22Z  2021-09-18T18:55:21Z  2.2.16   0.00   \n",
       "12   3095552.0  2012-04-02T11:01:26Z  2017-04-11T03:25:00Z     4.0   1.99   \n",
       "13   2094080.0  2015-12-19T00:41:11Z  2018-10-17T20:01:47Z   1.4.2   0.99   \n",
       "\n",
       "     Free  Reviews  Current_Version_Score  \n",
       "1    True        1                5.00000  \n",
       "10   True     1285                4.78132  \n",
       "11   True     1839                4.78902  \n",
       "12  False      242                4.67354  \n",
       "13  False       21                3.09524  "
      ]
     },
     "execution_count": 12,
     "metadata": {},
     "output_type": "execute_result"
    }
   ],
   "source": [
    "# Drop rows with null value\n",
    "app = app.dropna(how='any')\n",
    "app.head()"
   ]
  },
  {
   "cell_type": "markdown",
   "metadata": {},
   "source": [
    "# Data Visualization"
   ]
  },
  {
   "cell_type": "markdown",
   "metadata": {},
   "source": [
    "* This is a good place for some relevant visualizations related to any exploratory data anlayses (EDA) you did after the basic cleaning."
   ]
  },
  {
   "cell_type": "markdown",
   "metadata": {},
   "source": [
    "# Data Analysis & Results"
   ]
  },
  {
   "cell_type": "markdown",
   "metadata": {},
   "source": [
    "* Include cells that describe the steps in your data analysis.\n",
    "* You'll likely also have some visualizations here as well."
   ]
  },
  {
   "cell_type": "code",
   "execution_count": 1,
   "metadata": {},
   "outputs": [],
   "source": [
    "## YOUR CODE HERE\n",
    "## FEEL FREE TO ADD MULTIPLE CELLS PER SECTION"
   ]
  },
  {
   "cell_type": "markdown",
   "metadata": {},
   "source": [
    "# Conclusion & Discussion"
   ]
  },
  {
   "cell_type": "markdown",
   "metadata": {},
   "source": [
    "* Discussion of your results and how they address your experimental question(s).\n",
    "* Come to a conclusion about your questions and hypothesis (remember we can only reject or fail to reject the null, we cannot accept the hypothesis. \n",
    "* What are the implications of your results?\n",
    "* Discuss limitations of your analyses.\n",
    "* You can also discuss future directions this work could be taken."
   ]
  },
  {
   "cell_type": "code",
   "execution_count": null,
   "metadata": {},
   "outputs": [],
   "source": []
  }
 ],
 "metadata": {
  "kernelspec": {
   "display_name": "Python 3 (ipykernel)",
   "language": "python",
   "name": "python3"
  },
  "language_info": {
   "codemirror_mode": {
    "name": "ipython",
    "version": 3
   },
   "file_extension": ".py",
   "mimetype": "text/x-python",
   "name": "python",
   "nbconvert_exporter": "python",
   "pygments_lexer": "ipython3",
   "version": "3.10.9"
  }
 },
 "nbformat": 4,
 "nbformat_minor": 2
}

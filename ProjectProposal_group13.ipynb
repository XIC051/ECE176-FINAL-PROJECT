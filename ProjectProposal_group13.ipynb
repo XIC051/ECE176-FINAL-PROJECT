{
 "cells": [
  {
   "cell_type": "markdown",
   "metadata": {},
   "source": [
    "# COGS 108 - Final Project Proposal"
   ]
  },
  {
   "cell_type": "markdown",
   "metadata": {},
   "source": []
  },
  {
   "attachments": {},
   "cell_type": "markdown",
   "metadata": {},
   "source": [
    "# Names\n",
    "\n",
    "- Zhirui Xia\n",
    "- Zehan Li\n",
    "- Yue Yin\n",
    "- Xiaojie Chen\n",
    "- Chenri Luo"
   ]
  },
  {
   "cell_type": "markdown",
   "metadata": {},
   "source": [
    "# Research Question"
   ]
  },
  {
   "attachments": {},
   "cell_type": "markdown",
   "metadata": {},
   "source": [
    "Do Developer, Price, and Update frequency (calculated from Released_Date and Updated) together affect the Current Version Score of an app? This question aims to see how the developer's reputation, price of the app, and its update frequency together influence the score of the app's current version.\n",
    "\n"
   ]
  },
  {
   "cell_type": "markdown",
   "metadata": {},
   "source": [
    "# Background and Prior Work"
   ]
  },
  {
   "attachments": {},
   "cell_type": "markdown",
   "metadata": {},
   "source": [
    "Mobile applications have become an essential part of daily life, catering to various user needs ranging from entertainment to productivity. Both the genre and the content rating of an app are crucial attributes that can determine its reception among users, which can be measured by the number of reviews and user ratings it receives1.\n",
    "\n",
    "There have been several studies analyzing aspects of mobile applications and their performance in the market. In a study by Mo et al. (2017), they examined the relationship between the number of downloads, ratings, and the category of Android apps. They discovered that different app categories had varied ratings, and this variance significantly influenced the number of downloads2.\n",
    "\n",
    "In a different study, Fu et al. (2013) analyzed the impact of age ratings on the success of iOS games, and they found that games rated for older age groups had fewer downloads but higher revenues[^Fu2013]. While these studies have looked at genre or content rating separately, your research will extend this line of inquiry by investigating how these two factors together influence an app's reviews and ratings.\n",
    "\n",
    "Other relevant research includes a study by Khalid et al. (2015), where they investigated the common reasons behind negative app reviews. They found that bugs, app functionality, and customer service were significant factors that led to lower ratings1. This background could provide valuable context in understanding the dynamics of user reviews and ratings.\n",
    "\n",
    "\n",
    "Khalid, H., Shihab, E., Nagappan, M., & Hassan, A. E. (2015). What Do Mobile App Users Complain About? A Study on Free iOS Apps. IEEE Software, 32(3), 70-77. \n",
    "\n",
    "Mo, K., Tan, C., & Lu, S. (2017). Watch Out for This! A Study of the Factors that Influence Mobile Application Downloads. 2017 13th International Conference on Computational Intelligence and Security (CIS). \n",
    "\n",
    "Fu, F., Zhang, L., & Chan, K. (2013). A multilevel model of free-to-play games: An empirical study of a game's lifetime and revenue. Expert Systems with Applications, 40(8), 3166-3173. \n"
   ]
  },
  {
   "cell_type": "markdown",
   "metadata": {},
   "source": [
    "# Hypothesis\n"
   ]
  },
  {
   "attachments": {},
   "cell_type": "markdown",
   "metadata": {},
   "source": [
    "Research Hypothesis: \n",
    "There is a significant relationship between the developer's reputation, price of the app, and its update frequency (calculated from Released_Date and Updated) of an app, and the Current_Version_Score of the apps in Apple AppStore.\n",
    "\n",
    "\n",
    "Null hypothesis:\n",
    "There is no significant relationship between the developer's reputation, price of the app, and update frequency of an app, and the Current_Version_Score of the apps in Apple AppStore.\n"
   ]
  },
  {
   "cell_type": "markdown",
   "metadata": {},
   "source": [
    "# Data"
   ]
  },
  {
   "attachments": {},
   "cell_type": "markdown",
   "metadata": {},
   "source": [
    "An ideal dataset for our question should include the following variables:\n",
    "1. App ID: A unique identifier for each app in the dataset.\n",
    "2. App Name: the name of the app.  \n",
    "3. Developer Reputation: A type of indicator or variable of the reputation of the app developer.\n",
    "4. Price: The price of the app on Apple AppStore.\n",
    "5. Update Frequency/ Update Date: The frequency at which the app receives updates. / The release date of each update version so we can process this data to obtain the update frequency. \n",
    "6. Current Version Score: The score of the current version of the app.\n",
    "\n",
    "The number of observations depends on the scale of apps we want to analyze. Our ideal thought is including as many apps as possible because a diverse range of apps would provide more robust results. However, if there are too many observations, it will be time-consuming to process and analyze the dataset. So we need to reach a balance, we believe that a number that is between 500, 000 and 1,500,000 is suitable for our project. \n",
    "\n",
    "To collect the data, it is most ideal that the data is collected directly from the Apple AppStore. Possibly through scraping data from AppStore or using app datasets collected by a third party. During the collection process, information such as app details, developer information, pricing, update data and history, and user ratings will be collected. \n",
    "\n",
    "Ideally, the dataset should format in an organized format such as spreadsheet, data frame or relational database. Each row should represent one version of one app, where the columns should contain the variables we need for the analysis as mentioned above (developer reputation, pricing, update frequency etc.). Under this format, it is easy to process and manipulate data, as well as exploring trends and patterns. \n",
    "\n",
    "https://www.kaggle.com/datasets/gauthamp10/apple-appstore-apps\n",
    "\n",
    "We found this dataset on Kaggle and it is available for free download. It meets most of our expectations of datasets. It is in csv format where we can directly read it in the jupyter notebook as a data frame and perform data analysis using python. Also, it contains columns like “App_id”, “App_name”, “Updated time”, “Price in USD”, “current_version_score”. \n",
    "\n",
    "One strategy we may consider to adapt to our question is using the given information of “Developer Id”, we can calculate the average ratings of all products associated with each particular developer to derive a new column  indicating their reputations. In this case, higher average ratings can indicate higher reputations. \n",
    "\n",
    "Another strategy we may consider to adapt is in the “app_name” column, several different versions of the same app are named differently and have different “app_id” although they are just different versions and different release dates from each other. For example, there are apps named “B-Daman Fireblast vol. 2” and  “B-Daman Fireblast vol. 3”, which are the same app from the same developer. In this case, we may want to consider all the versions as a whole and calculate the update frequency accordingly, neglecting the fact that they have different “app_id”. \n",
    "\n"
   ]
  },
  {
   "cell_type": "markdown",
   "metadata": {},
   "source": [
    "# Ethics & Privacy"
   ]
  },
  {
   "attachments": {},
   "cell_type": "markdown",
   "metadata": {},
   "source": [
    "In this project, ethics and privacy are critical and is one of our major concerns. The proposed data potentially includes sensitive information such as user reviews and ratings. Biases might arised from the collection of usage of such data, potentially leaking sensitive information or leads to biased result of our project. For example, the app reviews data might exclude certain populations based on the various contents of the app, and the potential customers of each app differ by a large scale, which can lead to the uncomprehensive result and unfair or discriminatory analysis. To prevent such problems, it is important to conduct a thorough review of the dataset before analysis, identify any biases, and take actions to mitigate them. During our analysis, we must remain vigilant for biases and evaluate the impact of any findings on different demographic and different age groups. Afterward, when discussing the analysis, transparency about the dataset's limitations should also be maintained and keep in mind for responsible and ethical approach. Furthermore, in order to be thorough, the misuse of user data for targeted advertising without explicit consent could infrige upon user privacy. In order to handle it, it is necessary to anonymize and aggregfate the data, use dataset from public source that has user consent for data usage, and ensure compliance with any privacy regulations. In summary, ethics and privacy are essential to data scientists. Addressing concerns, mitigating biases, protecting privacy, and complying with ethics are significant during the data collection, analysis, and communication processes. Transparency, fairness, and responsible data handling are important to ensure an unbiased and ethical project."
   ]
  },
  {
   "cell_type": "markdown",
   "metadata": {},
   "source": [
    "# Team Expectations "
   ]
  },
  {
   "attachments": {},
   "cell_type": "markdown",
   "metadata": {},
   "source": [
    "Team Expectations for Project Completion:\n",
    "\n",
    "1. Respect and Cooperation: Each member agrees to treat others with respect, listen to each other's ideas, and work cooperatively to complete the project.\n",
    "\n",
    "2. Participation: Each team member is expected to actively participate in the project, contributing equitably to the work in terms of time, effort, and skill.\n",
    "\n",
    "3. Communication: We will communicate regularly via a group chat on social media, with at least weekly virtual meetings to discuss our progress and next steps.\n",
    "\n",
    "4. Timeliness: All members will respect deadlines set by the team and will aim to complete their assigned tasks on time. If delays are unavoidable, members will communicate this to the team as early as possible.\n",
    "\n",
    "5. Quality of Work: Each team member is expected to deliver work of a high standard that contributes positively to the final project.\n",
    "\n",
    "6. Conflict Resolution: If conflicts arise, we will aim to address the issue respectfully and directly with the person(s) involved first, before involving other team members or the course instructor, if necessary.\n",
    "\n",
    "7. Flexibility: All members understand that this is a collaborative project, and flexibility might be needed sometimes to accommodate others' ideas, schedules, etc.\n",
    "\n",
    "By adding each member's name to this document, we are indicating that we have read the COGS108 Team Policies, accept our team's expectations, and intend to fulfill them.\n"
   ]
  },
  {
   "cell_type": "markdown",
   "metadata": {},
   "source": [
    "# Project Timeline Proposal"
   ]
  },
  {
   "attachments": {},
   "cell_type": "markdown",
   "metadata": {},
   "source": [
    "\n",
    "| Meeting Date  | Meeting Time| Completed Before Meeting  | Discuss at Meeting |\n",
    "|---|---|---|---|\n",
    "| 7/12  |  3 PM | Brainstorm Questions | Icebreak; Decide the question; search dataset; separate the work, determine the platform for communication.| \n",
    "| 7/17  |  3 PM |  N/A | Separate the work for setup and data cleaning | \n",
    "| 7/21  | 3pm  |  Finish individual works and prepare to discuss them | Combine everyone’s work for section Setup everything and data cleaning; separate the task for data analysis |\n",
    "| 7/27  | 3pm  | Nothing, just bring what we changed and improved | Mid progress check, make sure everyone start on the tasks |\n",
    "| 8/1  | 3pm  | Finish the tasks assigned, and discuss for potential improvement | Combine Data Analysis and discuss Results, get the conclusion. |\n",
    "| 8/4  | 3pm  | N/A | Finalize everything and turn in the project |"
   ]
  },
  {
   "cell_type": "code",
   "execution_count": null,
   "metadata": {},
   "outputs": [],
   "source": []
  }
 ],
 "metadata": {
  "kernelspec": {
   "display_name": "Python 3 (ipykernel)",
   "language": "python",
   "name": "python3"
  },
  "language_info": {
   "codemirror_mode": {
    "name": "ipython",
    "version": 3
   },
   "file_extension": ".py",
   "mimetype": "text/x-python",
   "name": "python",
   "nbconvert_exporter": "python",
   "pygments_lexer": "ipython3",
   "version": "3.8.1"
  }
 },
 "nbformat": 4,
 "nbformat_minor": 2
}
